{
 "cells": [
  {
   "cell_type": "code",
   "execution_count": 15,
   "id": "30dc2524",
   "metadata": {},
   "outputs": [],
   "source": [
    "import numpy as np\n",
    "\n",
    "from numpy import pi,e\n",
    "from clifford import Cl, conformalize"
   ]
  },
  {
   "cell_type": "markdown",
   "id": "00422c56",
   "metadata": {},
   "source": [
    "Building CGA"
   ]
  },
  {
   "cell_type": "code",
   "execution_count": 16,
   "id": "6f03770b",
   "metadata": {},
   "outputs": [
    {
     "name": "stderr",
     "output_type": "stream",
     "text": [
      "/home/amir/.local/lib/python3.11/site-packages/numba/core/decorators.py:262: NumbaDeprecationWarning: \u001b[1mnumba.generated_jit is deprecated. Please see the documentation at: https://numba.readthedocs.io/en/stable/reference/deprecation.html#deprecation-of-generated-jit for more information and advice on a suitable replacement.\u001b[0m\n",
      "  warnings.warn(msg, NumbaDeprecationWarning)\n",
      "/home/amir/.local/lib/python3.11/site-packages/numba/core/decorators.py:262: NumbaDeprecationWarning: \u001b[1mnumba.generated_jit is deprecated. Please see the documentation at: https://numba.readthedocs.io/en/stable/reference/deprecation.html#deprecation-of-generated-jit for more information and advice on a suitable replacement.\u001b[0m\n",
      "  warnings.warn(msg, NumbaDeprecationWarning)\n"
     ]
    }
   ],
   "source": [
    "Cl3, blades_cl3 = Cl(3)\n",
    "\n",
    "Cl3c, blades, stuff = conformalize(Cl3)"
   ]
  },
  {
   "cell_type": "code",
   "execution_count": 17,
   "id": "dc19a9be",
   "metadata": {},
   "outputs": [],
   "source": [
    "locals().update(blades)\n",
    "locals().update(stuff)"
   ]
  },
  {
   "cell_type": "code",
   "execution_count": 19,
   "id": "c991c29f",
   "metadata": {},
   "outputs": [],
   "source": [
    "# translator\n",
    "T = lambda a: e**(1/2.*(einf*a))"
   ]
  },
  {
   "cell_type": "code",
   "execution_count": 23,
   "id": "087ff4ae",
   "metadata": {},
   "outputs": [],
   "source": [
    "# rotors\n",
    "\n",
    "R12 = lambda phi : e**(-phi/2*e12)\n",
    "R23 = lambda phi : e**(-phi/2*e23)\n",
    "R31 = lambda phi : e**(phi/2*e13)"
   ]
  },
  {
   "cell_type": "markdown",
   "id": "4a17c0aa",
   "metadata": {},
   "source": [
    "Camera model"
   ]
  },
  {
   "cell_type": "markdown",
   "id": "c2f03587",
   "metadata": {},
   "source": [
    "We will identify the $e_{12}$ plane as the ground plane and $e_3$ as the height coor"
   ]
  },
  {
   "cell_type": "code",
   "execution_count": 39,
   "id": "8b20fac4",
   "metadata": {},
   "outputs": [],
   "source": [
    "# position, heading, tilt of camera\n",
    "pos     = 0 #world coor\n",
    "heading = 0 #rad\n",
    "tilt    = 0 #rad\n",
    "\n",
    "# camera width, height (world coor)\n",
    "w = 3\n",
    "h = 2\n",
    "\n",
    "# focal length\n",
    "f = 2.3\n",
    "\n",
    "# screen array\n",
    "x_max = 300\n",
    "y_max = 200\n",
    "\n",
    "i,j = np.mgrid[0:y_max,0:x_max]\n",
    "\n",
    "px = f * e2 - x_max/2 * (1-2*i/w) * e1 - y_max/2 * (1-2*j/h) * e3\n",
    "# homogenize\n",
    "PX = up(px)\n",
    "\n",
    "R = T(pos)*R12(heading)*R23(tilt)\n",
    "# roto-transl camera\n",
    "P = R*PX*~R\n",
    "# focal point\n",
    "F = R*eo*~R\n",
    "\n",
    "# rays\n",
    "L = F ^ P ^ einf"
   ]
  },
  {
   "cell_type": "code",
   "execution_count": 40,
   "id": "0c1d26bf",
   "metadata": {},
   "outputs": [
    {
     "data": {
      "text/plain": [
       "MVArray([[-(150.0^e145) + (2.3^e245) - (100.0^e345),\n",
       "          -(150.0^e145) + (2.3^e245),\n",
       "          -(150.0^e145) + (2.3^e245) + (100.0^e345), ...,\n",
       "          -(150.0^e145) + (2.3^e245) + (29600.0^e345),\n",
       "          -(150.0^e145) + (2.3^e245) + (29700.0^e345),\n",
       "          -(150.0^e145) + (2.3^e245) + (29800.0^e345)],\n",
       "         [-(50.0^e145) + (2.3^e245) - (100.0^e345),\n",
       "          -(50.0^e145) + (2.3^e245),\n",
       "          -(50.0^e145) + (2.3^e245) + (100.0^e345), ...,\n",
       "          -(50.0^e145) + (2.3^e245) + (29600.0^e345),\n",
       "          -(50.0^e145) + (2.3^e245) + (29700.0^e345),\n",
       "          -(50.0^e145) + (2.3^e245) + (29800.0^e345)],\n",
       "         [(50.0^e145) + (2.3^e245) - (100.0^e345),\n",
       "          (50.0^e145) + (2.3^e245),\n",
       "          (50.0^e145) + (2.3^e245) + (100.0^e345), ...,\n",
       "          (50.0^e145) + (2.3^e245) + (29600.0^e345),\n",
       "          (50.0^e145) + (2.3^e245) + (29700.0^e345),\n",
       "          (50.0^e145) + (2.3^e245) + (29800.0^e345)],\n",
       "         ...,\n",
       "         [(19550.0^e145) + (2.3^e245) - (100.0^e345),\n",
       "          (19550.0^e145) + (2.3^e245),\n",
       "          (19550.0^e145) + (2.3^e245) + (100.0^e345), ...,\n",
       "          (19550.0^e145) + (2.3^e245) + (29600.0^e345),\n",
       "          (19550.0^e145) + (2.3^e245) + (29700.0^e345),\n",
       "          (19550.0^e145) + (2.3^e245) + (29800.0^e345)],\n",
       "         [(19650.0^e145) + (2.3^e245) - (100.0^e345),\n",
       "          (19650.0^e145) + (2.3^e245),\n",
       "          (19650.0^e145) + (2.3^e245) + (100.0^e345), ...,\n",
       "          (19650.0^e145) + (2.3^e245) + (29600.0^e345),\n",
       "          (19650.0^e145) + (2.3^e245) + (29700.0^e345),\n",
       "          (19650.0^e145) + (2.3^e245) + (29800.0^e345)],\n",
       "         [(19750.0^e145) + (2.3^e245) - (100.0^e345),\n",
       "          (19750.0^e145) + (2.3^e245),\n",
       "          (19750.0^e145) + (2.3^e245) + (100.0^e345), ...,\n",
       "          (19750.0^e145) + (2.3^e245) + (29600.0^e345),\n",
       "          (19750.0^e145) + (2.3^e245) + (29700.0^e345),\n",
       "          (19750.0^e145) + (2.3^e245) + (29800.0^e345)]], dtype=object)"
      ]
     },
     "execution_count": 40,
     "metadata": {},
     "output_type": "execute_result"
    }
   ],
   "source": [
    "L"
   ]
  },
  {
   "cell_type": "code",
   "execution_count": null,
   "id": "dd8f0e4f",
   "metadata": {},
   "outputs": [],
   "source": []
  }
 ],
 "metadata": {
  "kernelspec": {
   "display_name": "Python 3 (ipykernel)",
   "language": "python",
   "name": "python3"
  },
  "language_info": {
   "codemirror_mode": {
    "name": "ipython",
    "version": 3
   },
   "file_extension": ".py",
   "mimetype": "text/x-python",
   "name": "python",
   "nbconvert_exporter": "python",
   "pygments_lexer": "ipython3",
   "version": "3.11.3"
  }
 },
 "nbformat": 4,
 "nbformat_minor": 5
}
